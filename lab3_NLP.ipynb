{
 "cells": [
  {
   "cell_type": "code",
   "execution_count": 35,
   "id": "cb1e376f-40e6-4ae8-a175-24768aa79fb2",
   "metadata": {},
   "outputs": [],
   "source": [
    "import re\n"
   ]
  },
  {
   "cell_type": "code",
   "execution_count": 36,
   "id": "a8b1bb19-7af3-40d0-b023-7b9845d2c63a",
   "metadata": {},
   "outputs": [
    {
     "data": {
      "text/plain": [
       "['9',\n",
       " '9',\n",
       " '9',\n",
       " '1',\n",
       " '1',\n",
       " '1',\n",
       " '6',\n",
       " '6',\n",
       " '6',\n",
       " '6',\n",
       " '4',\n",
       " '0',\n",
       " '9',\n",
       " '9',\n",
       " '9',\n",
       " '3',\n",
       " '3',\n",
       " '3',\n",
       " '7',\n",
       " '7',\n",
       " '7',\n",
       " '7']"
      ]
     },
     "execution_count": 36,
     "metadata": {},
     "output_type": "execute_result"
    }
   ],
   "source": [
    "random_text='''\n",
    "Elon musk's phone number is 9991116666, call him if you have any questions on dodgecoin. Tesla's revenue is 40 billion\n",
    "Tesla's CFO number (999)-333-7777\n",
    "'''\n",
    "# extracting a single digit\n",
    "pattern='\\d'\n",
    "matches=re.findall(pattern,random_text)\n",
    "matches"
   ]
  },
  {
   "cell_type": "code",
   "execution_count": 37,
   "id": "e90b4f40-8a44-41cb-9869-1601d2b66969",
   "metadata": {},
   "outputs": [
    {
     "data": {
      "text/plain": [
       "['99', '91', '11', '66', '66', '40', '99', '33', '77', '77']"
      ]
     },
     "execution_count": 37,
     "metadata": {},
     "output_type": "execute_result"
    }
   ],
   "source": [
    "# extracting two continuous digits\n",
    "random_text='''\n",
    "Elon musk's phone number is 9991116666, call him if you have any questions on dodgecoin. Tesla's revenue is 40 billion\n",
    "Tesla's CFO number (999)-333-7777\n",
    "'''\n",
    "pattern='\\d\\d'\n",
    "matches=re.findall(pattern,random_text)\n",
    "matches"
   ]
  },
  {
   "cell_type": "code",
   "execution_count": 38,
   "id": "0ba48dff-40d1-4813-9d45-5cfec572cdd5",
   "metadata": {},
   "outputs": [
    {
     "data": {
      "text/plain": [
       "['999', '111', '666', '999', '333', '777']"
      ]
     },
     "execution_count": 38,
     "metadata": {},
     "output_type": "execute_result"
    }
   ],
   "source": [
    "# extracting exactly three continuous digits\n",
    "random_text='''\n",
    "Elon musk's phone number is 9991116666, call him if you have any questions on dodgecoin. Tesla's revenue is 40 billion\n",
    "Tesla's CFO number (999)-333-7777\n",
    "'''\n",
    "pattern='\\d{3}'\n",
    "matches=re.findall(pattern,random_text)\n",
    "matches"
   ]
  },
  {
   "cell_type": "code",
   "execution_count": 39,
   "id": "c5837808-145b-4254-bac1-42a112ad5462",
   "metadata": {},
   "outputs": [
    {
     "data": {
      "text/plain": [
       "['9991116666']"
      ]
     },
     "execution_count": 39,
     "metadata": {},
     "output_type": "execute_result"
    }
   ],
   "source": [
    "# extracting 10 digits of phone number type-1\n",
    "random_text='''\n",
    "Elon musk's phone number is 9991116666, call him if you have any questions on dodgecoin. Tesla's revenue is 40 billion\n",
    "Tesla's CFO number (999)-333-7777\n",
    "'''\n",
    "pattern='\\d{10}'\n",
    "matches=re.findall(pattern,random_text)\n",
    "matches"
   ]
  },
  {
   "cell_type": "code",
   "execution_count": 40,
   "id": "1a338084-ef37-4274-8acb-d536c2e514cb",
   "metadata": {},
   "outputs": [
    {
     "data": {
      "text/plain": [
       "['(999)-333-7777']"
      ]
     },
     "execution_count": 40,
     "metadata": {},
     "output_type": "execute_result"
    }
   ],
   "source": [
    "# Extracting phone number:\n",
    "random_text='''\n",
    "Elon musk's phone number is 9991116666, call him if you have any questions on dodgecoin. Tesla's revenue is 40 billion\n",
    "Tesla's CFO number (999)-333-7777\n",
    "'''\n",
    "pattern='\\(\\d{3}\\)-\\d{3}-\\d{4}'\n",
    "matches=re.findall(pattern,random_text)\n",
    "matches"
   ]
  },
  {
   "cell_type": "code",
   "execution_count": 41,
   "id": "f5c2affe-3dc5-472c-9cef-d1923d338520",
   "metadata": {},
   "outputs": [
    {
     "data": {
      "text/plain": [
       "['9991116666', '(999)-333-7777']"
      ]
     },
     "execution_count": 41,
     "metadata": {},
     "output_type": "execute_result"
    }
   ],
   "source": [
    "# Extracting both types of phone numbers\n",
    "pattern='\\(\\d{3}\\)-\\d{3}-\\d{4}|\\d{10}'\n",
    "matches=re.findall(pattern,random_text)\n",
    "matches"
   ]
  },
  {
   "cell_type": "code",
   "execution_count": 42,
   "id": "8e29b9dc-47d7-4c01-8913-2eb4bddf6350",
   "metadata": {},
   "outputs": [
    {
     "data": {
      "text/plain": [
       "['Note 1', 'Note 2', 'Note 8']"
      ]
     },
     "execution_count": 42,
     "metadata": {},
     "output_type": "execute_result"
    }
   ],
   "source": [
    "# Extracting Note Titles\n",
    "text = '''\n",
    "Note 1 - Summary of Significant Accounting Policies\n",
    "Unauditad Interen Financial Statements\n",
    "The consolidated financial statements of Tesla, Inc. (Tesla the Company, we us\" or \"our), including the consolidated balance sheet as of March 31, 2024, the consolidated statements of operations, the consobdated statements of comprehensive income, the\n",
    "consolidated statements of redeemable noncontrolling interests and equity, and the consolidated statements of cash flows for the three months ended March 31, 2024 and 2023, as well as other information disclosed in the accompanying notes, are unaudited. The consolidated\n",
    "balance sheet as of December 31, 2023 was derived from the audited consolidated financial statements as of that date. The interim consolidated financial statements and the accompanying notes should be read in conjunction with the annual consolidated financial statements and the\n",
    "accompanying notes contained in our Annual Report on Form 10-K for the year ended December 31, 2023 The interim consolidated financial statements and the accompanying notes have been prepared on the same basas as the annual consolidated financial statements and, in the opinion of management, reflect all adjustments, which mclude only normal recurring adjustments,\n",
    "necessary for a fair statement of the results of operations for the periods presented. The consolidated results of operations for any interim period are not necessarily indicative of the results to be expected for the full your or for any other future years or interim periods\n",
    "Note 2 - Fair Value of Financial Instruments\n",
    "should be used in ASC 820, Fair Value Measurements (\"ASC 820\") states that fair value is an exat price, representing the amount that would be recerved to sell an asset or paid to transfer a liability in an orderly transaction between market participants. As such, fair value is a market-based measurement that should be determined 1 based based on on assumptions that market participants would use in pricing an asset or a liability. lability The three-tiered fair value hierarchy. hierarchy, which which prioritizes pr which hich inputs measuring fair value, is comprised of (Level 1) observable inputs such am quoted prices in active markets, (Level II) imputs other than quoted prices in active maricets that are observable either directly or indirectly and (Level III) unobservable inputs for which there is little or no market data. The fair value hierarchy requires the use of observable market data when available in determining fair value. Our assets and liabilities that were measured at fair value on a recurring basis were as follows (in millions)\n",
    "Note 8 - Equity Incentive Plans\n",
    "Other Performance-Based Grants\n",
    "From time to time, the Compensation Committee of our Board of Directors grants certain employees performance-based restricted stock units and stock options\n",
    "As of March 31, 2024, we had unrecognized stock-based compensation expense of $613 million under these grants to purchase or receive an aggregate 5.0 million shares of our common stock For awards probable of achievement, we estimate the unrecognized stock-based compensation expense of $104 million will be recognized over a weighted-average period of 4.8 vears.\n",
    "For the three months ended March 31, 2024 and 2023, stock-based compensation expense related to these grants, net of forfeitures, ware immaterial.\n",
    "'''\n",
    "\n",
    "# Extracting Notes numbers\n",
    "pattern='Note \\d'\n",
    "matches=re.findall(pattern,text)\n",
    "matches"
   ]
  },
  {
   "cell_type": "code",
   "execution_count": 43,
   "id": "3538cc30-1671-4d90-b769-cffb219ae1c4",
   "metadata": {},
   "outputs": [
    {
     "data": {
      "text/plain": [
       "['Note 1 - S', 'Note 2 - F', 'Note 8 - E']"
      ]
     },
     "execution_count": 43,
     "metadata": {},
     "output_type": "execute_result"
    }
   ],
   "source": [
    "# [abc] captures a single character among a,b or c\n",
    "# [^abc] captures a character except a,b or c\n",
    "# Extracting note numbers along with a single character\n",
    "\n",
    "pattern='Note \\d - [^\\n]'\n",
    "matches=re.findall(pattern,text)\n",
    "matches\n"
   ]
  },
  {
   "cell_type": "code",
   "execution_count": 44,
   "id": "78ffc7b3-6f02-43c9-9be8-882d6146b6fc",
   "metadata": {},
   "outputs": [
    {
     "data": {
      "text/plain": [
       "['Note 1 - Summary of Significant Accounting Policies',\n",
       " 'Note 2 - Fair Value of Financial Instruments',\n",
       " 'Note 8 - Equity Incentive Plans']"
      ]
     },
     "execution_count": 44,
     "metadata": {},
     "output_type": "execute_result"
    }
   ],
   "source": [
    "# Extracting note number along with all characters before line change\n",
    "pattern='Note \\d - [^\\n]*'\n",
    "matches=re.findall(pattern,text)\n",
    "matches\n"
   ]
  },
  {
   "cell_type": "code",
   "execution_count": 46,
   "id": "06e928c3-10f8-4c23-bac4-f49135b53141",
   "metadata": {},
   "outputs": [
    {
     "data": {
      "text/plain": [
       "['Summary of Significant Accounting Policies',\n",
       " 'Fair Value of Financial Instruments',\n",
       " 'Equity Incentive Plans']"
      ]
     },
     "execution_count": 46,
     "metadata": {},
     "output_type": "execute_result"
    }
   ],
   "source": [
    "# If ( ) is used without \\ then whatever is inside it, is the output match\n",
    "# finally extracting the note titles\n",
    "pattern='Note \\d - ([^\\n]*)'\n",
    "# patterns='(Note) \\d - ([^\\n]*)'\n",
    "matche=re.findall(pattern,text)\n",
    "matche\n"
   ]
  },
  {
   "cell_type": "code",
   "execution_count": null,
   "id": "adb1930b-f7ed-4f43-9f23-78b9c4acb9ad",
   "metadata": {},
   "outputs": [],
   "source": []
  },
  {
   "cell_type": "code",
   "execution_count": 28,
   "id": "c63f1b99-7abf-4915-87c9-182ed6382a8f",
   "metadata": {},
   "outputs": [
    {
     "name": "stdout",
     "output_type": "stream",
     "text": [
      "['FY2021 Q1', 'FY2020 Q4']\n"
     ]
    }
   ],
   "source": [
    "# Extracting Financial Periods\n",
    "text = '''\n",
    "The gross cost of operating lease vehicles in FY2021 Q1 was $4.85 billion.\n",
    "In previous quarter i.e. FY2020 Q4 it was $3 billion. \n",
    "'''\n",
    "\n",
    "pattern = 'FY\\d{4} Q[1-4]'\n",
    "matches = re.findall(pattern, text)\n",
    "print(matches)\n",
    "\n"
   ]
  },
  {
   "cell_type": "code",
   "execution_count": 29,
   "id": "7a4d37ed-bc45-40e4-a0e4-2290ff5dcb89",
   "metadata": {},
   "outputs": [
    {
     "name": "stdout",
     "output_type": "stream",
     "text": [
      "['FY2021 Q1', 'fy2020 Q4']\n"
     ]
    }
   ],
   "source": [
    "textt = '''\n",
    "The gross cost of operating lease vehicles in FY2021 Q1 was $4.85 billion.\n",
    "In previous quarter i.e. fy2020 Q4 it was $3 billion. \n",
    "'''\n",
    "patterns= 'FY\\d{4} Q[1-4]'\n",
    "matche = re.findall(patterns, textt, flags=re.IGNORECASE)\n",
    "print(matche)"
   ]
  },
  {
   "cell_type": "code",
   "execution_count": 47,
   "id": "7442c429-6688-4276-a4fd-e66088074d5c",
   "metadata": {},
   "outputs": [
    {
     "data": {
      "text/plain": [
       "['4', '3']"
      ]
     },
     "execution_count": 47,
     "metadata": {},
     "output_type": "execute_result"
    }
   ],
   "source": [
    "# Extracting only financial periods\n",
    "text = '''\n",
    "Tesla's gross cost of operating lease vehicles in FY2021 Q1 was $4.85 billion. \n",
    "In previous quarter i.e. FY2020 Q4 it was $3 billion.\n",
    "'''\n",
    "pattern='\\$([0-9])'\n",
    "matches=re.findall(pattern,text)\n",
    "matches"
   ]
  },
  {
   "cell_type": "code",
   "execution_count": 51,
   "id": "86aee1fc-35f4-41ad-ac49-4ee64297105b",
   "metadata": {},
   "outputs": [
    {
     "data": {
      "text/plain": [
       "['4.85', '3']"
      ]
     },
     "execution_count": 51,
     "metadata": {},
     "output_type": "execute_result"
    }
   ],
   "source": [
    "\n",
    "pattern = '\\$([0-9\\.]+)'    \n",
    "matches = re.findall(pattern, text)\n",
    "matches"
   ]
  },
  {
   "cell_type": "code",
   "execution_count": 52,
   "id": "1856b46a-8469-40bc-90c1-26a9bfa0df7f",
   "metadata": {},
   "outputs": [
    {
     "data": {
      "text/plain": [
       "[('2021 Q1', '4.85'), ('2020 Q4', '3')]"
      ]
     },
     "execution_count": 52,
     "metadata": {},
     "output_type": "execute_result"
    }
   ],
   "source": [
    "# Extracting periods and financial numbers both\n",
    "pattern = 'FY(\\d{4} Q[1-4])[^\\$]+\\$([0-9\\.]+)'\n",
    "# [^\\$] --Matches one or more characters that are not the dollar sign $.\n",
    "matches = re.findall(pattern, text)\n",
    "matches"
   ]
  },
  {
   "cell_type": "code",
   "execution_count": 53,
   "id": "0b865352-4811-410b-8022-6131b8d9446d",
   "metadata": {},
   "outputs": [
    {
     "data": {
      "text/plain": [
       "<re.Match object; span=(51, 84), match='FY2021 Q1\\nljh lsj a 123 was $4.85'>"
      ]
     },
     "execution_count": 53,
     "metadata": {},
     "output_type": "execute_result"
    }
   ],
   "source": [
    "text = '''\n",
    "Tesla's gross cost of operating lease vehicles in FY2021 Q1\n",
    "ljh lsj a 123 was $4.85 billion. Same number for FY2020 Q4 was $8 billion\n",
    "'''\n",
    "pattern = 'FY(\\d{4} Q[1-4])[^\\$]+\\$([0-9\\.]+)'\n",
    "\n",
    "matches = re.search(pattern, text)\n",
    "matches"
   ]
  },
  {
   "cell_type": "code",
   "execution_count": 73,
   "id": "81130143-f7d9-4645-85cf-c07301df637a",
   "metadata": {},
   "outputs": [],
   "source": [
    "chat1='customer: Hello, I am having an issue with my order # 412889912'\n",
    "chat2='customer: I have a problem with my order number 412889913'\n",
    "chat3='customer: My order 412789912 is having an issue, I was charged 300$ when online it says 280$'\n"
   ]
  },
  {
   "cell_type": "code",
   "execution_count": 74,
   "id": "8375a5cf-8880-4926-b4f8-f4af35ff4590",
   "metadata": {},
   "outputs": [
    {
     "data": {
      "text/plain": [
       "'412889912'"
      ]
     },
     "execution_count": 74,
     "metadata": {},
     "output_type": "execute_result"
    }
   ],
   "source": [
    "# function to get pattern from different sort of chats\n",
    "def get_pattern(pattern, text):\n",
    "    matches = re.findall(pattern, text)\n",
    "    if matches:\n",
    "        return matches[0]\n",
    "get_pattern('order[^\\d]*(\\d*)', chat1)"
   ]
  },
  {
   "cell_type": "code",
   "execution_count": 75,
   "id": "7b514b84-ece2-413b-bf09-201462a1aa2e",
   "metadata": {},
   "outputs": [
    {
     "data": {
      "text/plain": [
       "'412889913'"
      ]
     },
     "execution_count": 75,
     "metadata": {},
     "output_type": "execute_result"
    }
   ],
   "source": [
    "get_pattern('order[^\\d]*(\\d*)',chat2)"
   ]
  },
  {
   "cell_type": "code",
   "execution_count": 76,
   "id": "dedb4ff0-592a-4b6f-98f1-d46991d51239",
   "metadata": {},
   "outputs": [
    {
     "data": {
      "text/plain": [
       "'412789912'"
      ]
     },
     "execution_count": 76,
     "metadata": {},
     "output_type": "execute_result"
    }
   ],
   "source": [
    "get_pattern('order[^\\d]*(\\d*)', chat3)\n"
   ]
  },
  {
   "cell_type": "code",
   "execution_count": 92,
   "id": "85a3b6fb-8d47-406a-9d3f-61b3d36e126d",
   "metadata": {},
   "outputs": [],
   "source": [
    "# Retrieving emailid and phone numbers\n",
    "chat1 = 'customer: you ask lot of questions 😠  1235678912, abcA@gmail.com'\n",
    "chat2 = 'customer: here it is: (123)-567-8912, abc_d@outlook.com'\n",
    "chat3 = 'customer: yes, phone: 1235778912   email: abc123@rediffmail.com  (123)-567-8912'"
   ]
  },
  {
   "cell_type": "code",
   "execution_count": 85,
   "id": "7ae6b864-44a3-49dd-8fa3-b6c2b24a3397",
   "metadata": {},
   "outputs": [
    {
     "data": {
      "text/plain": [
       "'abcA@gmail.com'"
      ]
     },
     "execution_count": 85,
     "metadata": {},
     "output_type": "execute_result"
    }
   ],
   "source": [
    "get_pattern('[a-zA-Z0-9_]*@[a-z]*\\.[a-zA-Z0-9]*',chat1)"
   ]
  },
  {
   "cell_type": "code",
   "execution_count": 86,
   "id": "be3cefaf-8034-4ba5-8114-e4bd55d64a6d",
   "metadata": {},
   "outputs": [
    {
     "data": {
      "text/plain": [
       "'abc_d@outlook.com'"
      ]
     },
     "execution_count": 86,
     "metadata": {},
     "output_type": "execute_result"
    }
   ],
   "source": [
    "get_pattern('[a-zA-Z0-9_]*@[a-z]*\\.[a-zA-Z0-9]*',chat2)"
   ]
  },
  {
   "cell_type": "code",
   "execution_count": 87,
   "id": "df449cac-ee17-48a0-b7ca-c39f64358059",
   "metadata": {},
   "outputs": [
    {
     "data": {
      "text/plain": [
       "'abc123@rediffmail.com'"
      ]
     },
     "execution_count": 87,
     "metadata": {},
     "output_type": "execute_result"
    }
   ],
   "source": [
    "get_pattern('[a-zA-Z0-9_]*@[a-z]*\\.[a-zA-Z0-9]*',chat3)"
   ]
  },
  {
   "cell_type": "code",
   "execution_count": 88,
   "id": "9047466c-2d93-4eb1-9fae-03092b41045e",
   "metadata": {},
   "outputs": [
    {
     "data": {
      "text/plain": [
       "('1235678912', '')"
      ]
     },
     "execution_count": 88,
     "metadata": {},
     "output_type": "execute_result"
    }
   ],
   "source": [
    "# Phone number\n",
    "get_pattern('(\\d{10})|(\\(\\d{3}\\)-\\d{3}-\\d{4})',chat1)"
   ]
  },
  {
   "cell_type": "code",
   "execution_count": 89,
   "id": "07559935-4078-486f-a9be-14cd3ac7df60",
   "metadata": {},
   "outputs": [
    {
     "data": {
      "text/plain": [
       "('', '(123)-567-8912')"
      ]
     },
     "execution_count": 89,
     "metadata": {},
     "output_type": "execute_result"
    }
   ],
   "source": [
    "get_pattern('(\\d{10})|(\\(\\d{3}\\)-\\d{3}-\\d{4})', chat2)"
   ]
  },
  {
   "cell_type": "code",
   "execution_count": 93,
   "id": "dd342532-5edd-40c5-91c4-639089baf089",
   "metadata": {},
   "outputs": [
    {
     "data": {
      "text/plain": [
       "('1235778912', '')"
      ]
     },
     "execution_count": 93,
     "metadata": {},
     "output_type": "execute_result"
    }
   ],
   "source": [
    "get_pattern('(\\d{10})|(\\(\\d{3}\\)-\\d{3}-\\d{4})', chat3)"
   ]
  },
  {
   "cell_type": "code",
   "execution_count": null,
   "id": "cfbf2486-b562-46ae-b39a-ad3303dc4357",
   "metadata": {},
   "outputs": [],
   "source": []
  }
 ],
 "metadata": {
  "kernelspec": {
   "display_name": "Python 3 (ipykernel)",
   "language": "python",
   "name": "python3"
  },
  "language_info": {
   "codemirror_mode": {
    "name": "ipython",
    "version": 3
   },
   "file_extension": ".py",
   "mimetype": "text/x-python",
   "name": "python",
   "nbconvert_exporter": "python",
   "pygments_lexer": "ipython3",
   "version": "3.11.7"
  }
 },
 "nbformat": 4,
 "nbformat_minor": 5
}
